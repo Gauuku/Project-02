{
 "cells": [
  {
   "cell_type": "code",
   "execution_count": null,
   "id": "b718cfa9-712b-4d2b-b677-376985c5c430",
   "metadata": {},
   "outputs": [],
   "source": [
    "#Importing Libraries \n",
    "import pandas as pd \n",
    "import numpy as np \n",
    "import yfinance as yf \n",
    "from datetime import date, timedelta \n",
    "import plotly.graph_objects as go\n",
    "today = date.today()\n",
    "#The current date (today) is converted into a string in the format YYYY-MM-DD and stored as d\n",
    "d = today.strftime(\"%Y-%m-%d\")\n",
    "end_date = d \n",
    "d2 = date.today() -timedelta( days=840)\n",
    "d2 =d2.strftime(\"%Y-%m-%d\")\n",
    "start_date = d2"
   ]
  },
  {
   "cell_type": "code",
   "execution_count": null,
   "id": "3c205d42-f89f-41f3-a0e9-d119fc548652",
   "metadata": {},
   "outputs": [],
   "source": [
    "df = yf.download('PCBL.BO',start= start_date,\n",
    "                         end = end_date,\n",
    "                         progress=False)\n",
    "df.head()"
   ]
  },
  {
   "cell_type": "code",
   "execution_count": null,
   "id": "69020476-2194-43fa-b692-2cb0bd2b3022",
   "metadata": {},
   "outputs": [],
   "source": [
    "import plotly.graph_objects as go\n",
    "\n",
    "#Candlestick charts depict the open, closing, high, and low prices of a security over a designated time.\n",
    "figure = go.Figure(data=[go.Candlestick(\n",
    "    x=df.index,\n",
    "    open=df[\"Open\"],\n",
    "    high=df[\"High\"],\n",
    "    low=df[\"Low\"],\n",
    "    close=df[\"Close\"]\n",
    ")])\n",
    "figure.update_layout(xaxis_rangeslider_visible = False)\n",
    "\n",
    "figure.show()"
   ]
  },
  {
   "cell_type": "code",
   "execution_count": null,
   "id": "c9c780d6-8267-48db-bc2c-28fe939c334a",
   "metadata": {},
   "outputs": [],
   "source": [
    "import plotly.express as px\n",
    "\n",
    "figure =px.line(df , x = df.index,\n",
    "                 y =\"Close\")\n",
    "figure.show()"
   ]
  }
 ],
 "metadata": {
  "kernelspec": {
   "display_name": "Python 3 (ipykernel)",
   "language": "python",
   "name": "python3"
  },
  "language_info": {
   "codemirror_mode": {
    "name": "ipython",
    "version": 3
   },
   "file_extension": ".py",
   "mimetype": "text/x-python",
   "name": "python",
   "nbconvert_exporter": "python",
   "pygments_lexer": "ipython3",
   "version": "3.12.4"
  }
 },
 "nbformat": 4,
 "nbformat_minor": 5
}
